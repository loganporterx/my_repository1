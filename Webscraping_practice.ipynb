{
 "metadata": {
  "language_info": {
   "codemirror_mode": {
    "name": "ipython",
    "version": 3
   },
   "file_extension": ".py",
   "mimetype": "text/x-python",
   "name": "python",
   "nbconvert_exporter": "python",
   "pygments_lexer": "ipython3",
   "version": "3.9.2"
  },
  "orig_nbformat": 2,
  "kernelspec": {
   "name": "python392jvsc74a57bd05705c012bca1031ae7736c26effddb105a89bd7d9bd0be8200fc320c486405e7",
   "display_name": "Python 3.9.2 64-bit"
  },
  "metadata": {
   "interpreter": {
    "hash": "5705c012bca1031ae7736c26effddb105a89bd7d9bd0be8200fc320c486405e7"
   }
  }
 },
 "nbformat": 4,
 "nbformat_minor": 2,
 "cells": [
  {
   "cell_type": "code",
   "execution_count": 7,
   "metadata": {},
   "outputs": [
    {
     "output_type": "stream",
     "name": "stdout",
     "text": [
      "Requirement already satisfied: bs4 in c:\\users\\logan\\desktop\\cs50 materials\\lib\\site-packages (0.0.1)\nRequirement already satisfied: beautifulsoup4 in c:\\users\\logan\\desktop\\cs50 materials\\lib\\site-packages (from bs4) (4.9.3)\nRequirement already satisfied: soupsieve>1.2 in c:\\users\\logan\\desktop\\cs50 materials\\lib\\site-packages (from beautifulsoup4->bs4) (2.2.1)\n"
     ]
    }
   ],
   "source": [
    "!pip install bs4\n"
   ]
  },
  {
   "cell_type": "code",
   "execution_count": 8,
   "metadata": {},
   "outputs": [],
   "source": [
    "from bs4 import BeautifulSoup # this module helps in web scrapping.\n",
    "import requests  # this module helps us to download a web page"
   ]
  },
  {
   "source": [
    "Example HTML"
   ],
   "cell_type": "markdown",
   "metadata": {}
  },
  {
   "cell_type": "code",
   "execution_count": 9,
   "metadata": {},
   "outputs": [
    {
     "output_type": "display_data",
     "data": {
      "text/plain": "<IPython.core.display.HTML object>",
      "text/html": "<!DOCTYPE html>\n<html>\n<head>\n<title>Page Title</title>\n</head>\n<body>\n<h3><b id='boldest'>Lebron James</b></h3>\n<p> Salary: $ 92,000,000 </p>\n<h3> Stephen Curry</h3>\n<p> Salary: $85,000, 000 </p>\n<h3> Kevin Durant </h3>\n<p> Salary: $73,200, 000</p>\n</body>\n</html>\n"
     },
     "metadata": {}
    }
   ],
   "source": [
    "%%html\n",
    "<!DOCTYPE html>\n",
    "<html>\n",
    "<head>\n",
    "<title>Page Title</title>\n",
    "</head>\n",
    "<body>\n",
    "<h3><b id='boldest'>Lebron James</b></h3>\n",
    "<p> Salary: $ 92,000,000 </p>\n",
    "<h3> Stephen Curry</h3>\n",
    "<p> Salary: $85,000, 000 </p>\n",
    "<h3> Kevin Durant </h3>\n",
    "<p> Salary: $73,200, 000</p>\n",
    "</body>\n",
    "</html>"
   ]
  },
  {
   "source": [
    "\n",
    "\n",
    "We can store it as a string in the variable HTML:"
   ],
   "cell_type": "markdown",
   "metadata": {}
  },
  {
   "cell_type": "code",
   "execution_count": 10,
   "metadata": {},
   "outputs": [],
   "source": [
    "html=\"<!DOCTYPE html><html><head><title>Page Title</title></head><body><h3><b id='boldest'>Lebron James</b></h3><p> Salary: $ 92,000,000 </p><h3> Stephen Curry</h3><p> Salary: $85,000, 000 </p><h3> Kevin Durant </h3><p> Salary: $73,200, 000</p></body></html>\""
   ]
  },
  {
   "source": [
    "To parse a document, pass it into the BeautifulSoup constructor, the BeautifulSoup object, which represents the document as a nested data structure:"
   ],
   "cell_type": "markdown",
   "metadata": {}
  },
  {
   "cell_type": "code",
   "execution_count": 11,
   "metadata": {},
   "outputs": [],
   "source": [
    "soup = BeautifulSoup(html, 'html.parser')"
   ]
  },
  {
   "source": [
    "The document is converted to Unicode and HTML entities are converted to Unicode characters.\n",
    "\n",
    "We can use the method prettify() to display the HTML in the nested structure:"
   ],
   "cell_type": "markdown",
   "metadata": {}
  },
  {
   "cell_type": "code",
   "execution_count": 12,
   "metadata": {},
   "outputs": [
    {
     "output_type": "stream",
     "name": "stdout",
     "text": [
      "<!DOCTYPE html>\n<html>\n <head>\n  <title>\n   Page Title\n  </title>\n </head>\n <body>\n  <h3>\n   <b id=\"boldest\">\n    Lebron James\n   </b>\n  </h3>\n  <p>\n   Salary: $ 92,000,000\n  </p>\n  <h3>\n   Stephen Curry\n  </h3>\n  <p>\n   Salary: $85,000, 000\n  </p>\n  <h3>\n   Kevin Durant\n  </h3>\n  <p>\n   Salary: $73,200, 000\n  </p>\n </body>\n</html>\n"
     ]
    }
   ],
   "source": [
    "print(soup.prettify())"
   ]
  },
  {
   "source": [
    "Downloading And Scraping The Contents Of A Web Page"
   ],
   "cell_type": "markdown",
   "metadata": {}
  },
  {
   "cell_type": "code",
   "execution_count": 13,
   "metadata": {},
   "outputs": [],
   "source": [
    "url = \"http://www.ibm.com\""
   ]
  },
  {
   "cell_type": "code",
   "execution_count": 14,
   "metadata": {},
   "outputs": [],
   "source": [
    "data = requests.get(url).text"
   ]
  },
  {
   "cell_type": "code",
   "execution_count": 16,
   "metadata": {},
   "outputs": [],
   "source": [
    "soup = BeautifulSoup(data, \"html.parser\")"
   ]
  },
  {
   "cell_type": "code",
   "execution_count": 17,
   "metadata": {},
   "outputs": [
    {
     "output_type": "stream",
     "name": "stdout",
     "text": [
      "https://www.ibm.com/ca/en\n\nhttps://www.ibm.com/ca-en/products?lnk=hpmps_bupr_caen&lnk2=link\nhttps://www.ibm.com/industries?lnk=hpmps_buin_caen&lnk2=link\nhttps://www.ibm.com/artificial-intelligence?lnk=hpmps_buai_caen&lnk2=link\nhttps://www.ibm.com/automation?lnk=hpmps_buau_caen&lnk2=link\nhttps://www.ibm.com/blockchain?lnk=hpmps_bubc_caen&lnk2=link\nhttps://www.ibm.com/business-operations?lnk=hpmps_buop_caen&lnk2=link\nhttps://www.ibm.com/cloud?lnk=hpmps_bucl_caen&lnk2=link\nhttps://www.ibm.com/analytics?lnk=hpmps_buda_caen&lnk2=link\nhttps://www.ibm.com/it-infrastructure?lnk=hpmps_buit_caen&lnk2=link\nhttps://www.ibm.com/security?lnk=hpmps_buse_caen&lnk2=link\nhttps://www.ibm.com/supply-chain?lnk=hpmps_busc_caen&lnk2=link\nhttps://www.ibm.com/financing?lnk=hpmps_bufi_caen&lnk2=link\nhttps://www.ibm.com/ca-en/products?lnk=hpmps_buall_caen&lnk2=link\n\nhttps://www.ibm.com/services/process?lnk=hpmsc_bups_caen&lnk2=link\nhttps://www.ibm.com/services/ibmix/?lnk=hpmsc_budbs_caen&lnk2=link\nhttps://www.ibm.com/services/cloud?lnk=hpmsc_buhs?lnk=hpmsc_buhs_caen\nhttps://www.ibm.com/talent-management?lnk=hpmsc_buta_caen&lnk2=link\nhttps://www.ibm.com/services/applications?lnk=hpmsc_buas_caen&lnk2=link\nhttps://www.ibm.com/garage?lnk=hpmsc_buas_caen&lnk2=link\nhttps://www.ibm.com/security/services?lnk=hpmsc_buse_caen&lnk2=link\nhttps://www.ibm.com/services/technology-support?lnk=hpmsc_busv_caen&lnk2=link\nhttps://www.ibm.com/financing/solutions/it-services-financing?lnk=hpmsc_bufi_caen&lnk2=link\nhttps://www.ibm.com/services?lnk=hpmsc_buall_caen&lnk2=link\n\nhttps://www.ibm.com/support/ca/en/?lnk=hpmls_busu_caen&lnk2=link\nhttps://www.ibm.com/support/knowledgecenter/?lnk=hpmls_budc_caen&lnk2=link\nhttps://developer.ibm.com/?lnk=hpmls_bude_caen&lnk2=link\nhttps://www.ibm.com/training/?lnk=hpmls_butr_caen&lnk2=link\nhttps://www.ibm.com/blogs/?lnk=hpmls_bure_caen&lnk2=link\nhttps://www.ibm.com/cloud/learn?lnk=hpmls_buwi_caen&lnk2=link\n\nhttps://www.ibm.com/partnerworld/public?lnk=hpmex_bupa_caen&lnk2=link\nhttps://www.research.ibm.com/?lnk=hpmex_bure_caen&lnk2=link\nhttps://www.ibm.com/about?lnk=hpmex_buab_caen&lnk2=link\nhttps://www.ibm.com/impact/covid-19?lnk=hpmex_buco_caen&lnk2=link\nhttps://www.ibm.com/sitemap/ca/en\nhttps://www.ibm.com/blogs/ibm-canada/2021/06/supporting-the-holistic-well-being-of-employees-includes-fostering-work-life-balance/?lnk=hpv18l1\nhttps://www.ibm.com/events/think/?lnk=hpv18nf1\nhttp://www.ibm.com/ca-en/campaign/sustainability?lnk=hpv18f1\nhttps://www.ibm.com/blogs/ibm-canada/2021/05/how-to-unleash-your-organizational-impalas-to-drive-your-it-transformation/?lnk=hpv18f2\nhttps://www.ibm.com/blogs/ibm-canada/2021/05/sustainability-at-think-2021/?lnk=hpv18f3\nhttps://www.ibm.com/cloud/automation?lnk=hpv18l4\n/ca-en/products/offers-and-discounts\nhttps://www.ibm.com/ca-en/cloud/cloud-pak-for-business-automation?lnk=STW_CA_HPT_T1_BLK&psrc=NONE&pexp=DEF&lnk2=trial_CloudPakBusAuto%3Flnk%3Dhpv18t1\nhttps://www.ibm.com/products/cloud-pak-for-data?loc=ca-en&lnk=STW_CA_HPT_T2_BLK&psrc=NONE&pexp=DEF&lnk2=trial_CloudPakData%3Flnk%3Dhpv18t2\nhttps://www.ibm.com/ca-en/cloud/watson-discovery?lnk=STW_CA_HPT_T3_BLK&psrc=NONE&pexp=DEF&lnk2=trial_WatDiscovery%3Flnk%3Dhpv18t3\nhttps://www.ibm.com/ca-en/products/planning-analytics?lnk=STW_CA_HPT_T4_BLK&psrc=NONE&pexp=DEF&lnk2=trial_PlanningAnalytics%3Flnk%3Dhpv18t4\nhttps://developer.ibm.com/depmodels/cloud/?lnk=hpv18ct16\nhttps://developer.ibm.com/technologies/artificial-intelligence?lnk=hpv18ct19\nhttps://www.ibm.com/demos/?lnk=hpv18ct12\nhttps://developer.ibm.com/?lnk=hpv18ct9\nhttps://www.ibm.com/docs/en?lnk=hpv18ct14\nhttps://www.redbooks.ibm.com/?lnk=ushpv18ct10\nhttps://www.ibm.com/support/home/?lnk=hpv18ct11\nhttps://www.ibm.com/training/?lnk=hpv18ct15\n/cloud/hybrid?lnk=hpv18pt14\n/cloud/learn/public-cloud?lnk=hpv18ct1\n/watson?lnk=ushpv18pt17\n/garage?lnk=hpv18pt13\n/blockchain?lnk=hpv18pt4\nhttps://www.ibm.com/thought-leadership/institute-business-value/?lnk=hpv18pt12\n/analytics?lnk=hpv18pt1\n/security?lnk=hpv18pt9\n/financing?lnk=hpv18pt3\nhttps://www.ibm.com/quantum-computing?lnk=hpv18pt16\n/cloud/hybrid?lnk=hpv18ct20\n/cloud/learn/public-cloud?lnk=hpv18ct1\n/cloud/redhat?lnk=hpv18ct13\n/watson?lnk=hpv18ct3\nhttps://www.ibm.com/quantum-computing?lnk=hpv18ct18\n/cloud/learn/kubernetes?lnk=hpv18ct8\n/products/spss-statistics?lnk=ushpv18ct7\n/blockchain?lnk=hpv18ct1\nhttps://www.ibm.com/ca-en/employment/?lnk=hpv18ct2\nhttps://www.ibm.com/case-studies/north-york-general-hospital-hybrid-cloud-cognos-analytics/?lnk=hpv18cs1\n/case-studies/search?lnk=hpv18cs2\nhttps://www.ibm.com/ca-en/products?lnk=fdi-caen\nhttps://www.ibm.com/services/en-us/?lnk=fdi\nhttps://www.ibm.com/industries/en-us/?lnk=fdi\nhttps://www.ibm.com/case-studies?lnk=fdi\nhttps://www.ibm.com/partnerworld/wps/servlet/ContentHandler/partnerworld-home?lnk=mdev_pw_caen&lnk2=learn\nhttps://www.ibm.com/support/home/?lnk=msu_usen\nhttps://www.ibm.com/partnerworld/wps/bplocator/search.jsp?lnk=fcw-caen\nhttps://www.ibm.com/employment/ca/en/?lnk=fab_caen\nhttps://www.ibm.com/news/ca/en/?lnk=fab-caen\nhttps://www.ibm.com/blogs/ibm-canada/?lnk=fab-caen\nhttps://www.ibm.com/investor/?lnk=fab-caen\nhttps://www.ibm.com/ibm/responsibility/?lnk=fab-caen\nhttps://www.ibm.com/ca-en/about\nhttps://www.ibm.com/contact/ca/en/?lnk=flg-cont-caen\nhttps://www.ibm.com/privacy/ca/en/?lnk=flg-priv-caen\nhttps://www.ibm.com/ca-en/legal?lnk=flg-tous-caen\nhttps://www.ibm.com/accessibility/ca/en/?lnk=flg-acce-caen\n#\n"
     ]
    }
   ],
   "source": [
    "for link in soup.find_all('a',href=True):\n",
    "    print(link.get('href'))"
   ]
  },
  {
   "source": [
    "# in html anchor/link \n",
    "\n",
    "If we set the  <code>href</code> attribute to True, regardless of what the value is, the code finds all tags with <code>href</code> value:\n"
   ],
   "cell_type": "markdown",
   "metadata": {}
  },
  {
   "cell_type": "code",
   "execution_count": 18,
   "metadata": {},
   "outputs": [
    {
     "output_type": "stream",
     "name": "stdout",
     "text": [
      "<img alt=\"Whales swimming away from a melting piece of ice\" class=\"\" loading=\"lazy\" src=\"//1.cms.s81c.com/sites/default/files/2021-06-07/Sustainability_site_card_1.jpg\"/>\n//1.cms.s81c.com/sites/default/files/2021-06-07/Sustainability_site_card_1.jpg\n<img alt=\"A group of impalas' silhouettes in front of a sunset\" class=\"\" loading=\"lazy\" src=\"//1.cms.s81c.com/sites/default/files/2021-06-07/Impala_blog_card.jpg\"/>\n//1.cms.s81c.com/sites/default/files/2021-06-07/Impala_blog_card.jpg\n<img alt=\"Aerial view of a forest next to a corn field\" class=\"\" loading=\"lazy\" src=\"//1.cms.s81c.com/sites/default/files/2021-05-30/Sustainability_at_Think_2021_Card.jpg\"/>\n//1.cms.s81c.com/sites/default/files/2021-05-30/Sustainability_at_Think_2021_Card.jpg\n<img alt=\"\" class=\"\" loading=\"lazy\" src=\"//1.cms.s81c.com/sites/default/files/2021-05-30/Automation_Page_Card.jpg\"/>\n//1.cms.s81c.com/sites/default/files/2021-05-30/Automation_Page_Card.jpg\n<img alt=\"Screenshot of IBM Cloud Pak for Business Automation\" class=\"\" loading=\"lazy\" src=\"//1.cms.s81c.com/sites/default/files/2021-05-30/Cloud-pak-for-automation-444x260.png\"/>\n//1.cms.s81c.com/sites/default/files/2021-05-30/Cloud-pak-for-automation-444x260.png\n<img alt=\"Screenshot of IBM Cloud Pak for Data\" class=\"\" loading=\"lazy\" src=\"//1.cms.s81c.com/sites/default/files/2021-05-30/Cloud-Pak-for-Data-22396-700x420.png\"/>\n//1.cms.s81c.com/sites/default/files/2021-05-30/Cloud-Pak-for-Data-22396-700x420.png\n<img alt=\"Screenshot of Watson Discovery\" class=\"\" loading=\"lazy\" src=\"//1.cms.s81c.com/sites/default/files/2021-06-01/watson-discovery-trial_700x420%20%281%29.png\"/>\n//1.cms.s81c.com/sites/default/files/2021-06-01/watson-discovery-trial_700x420%20%281%29.png\n<img alt=\"Screenshot of IBM Planning Analytics\" class=\"\" loading=\"lazy\" src=\"//1.cms.s81c.com/sites/default/files/2021-05-11/Planning-Analytics-22201-700x420.png\"/>\n//1.cms.s81c.com/sites/default/files/2021-05-11/Planning-Analytics-22201-700x420.png\n"
     ]
    }
   ],
   "source": [
    "for link in soup.find_all('img'):\n",
    "    print(link)\n",
    "    print(link.get('src'))"
   ]
  },
  {
   "source": [
    "Scrape data from HTML tables into a DataFrame using BeautifulSoup and Pandas"
   ],
   "cell_type": "markdown",
   "metadata": {}
  },
  {
   "cell_type": "code",
   "execution_count": 27,
   "metadata": {},
   "outputs": [],
   "source": [
    "import pandas as pd"
   ]
  },
  {
   "cell_type": "code",
   "execution_count": 19,
   "metadata": {},
   "outputs": [],
   "source": [
    "#The below url contains html tables with data about world population.\n",
    "url = \"https://en.wikipedia.org/wiki/World_population\""
   ]
  },
  {
   "cell_type": "code",
   "execution_count": 20,
   "metadata": {},
   "outputs": [],
   "source": [
    "# get the contents of the webpage in text format and store in a variable called data\n",
    "data  = requests.get(url).text"
   ]
  },
  {
   "cell_type": "code",
   "execution_count": 21,
   "metadata": {},
   "outputs": [],
   "source": [
    "soup = BeautifulSoup(data,\"html.parser\")"
   ]
  },
  {
   "cell_type": "code",
   "execution_count": 22,
   "metadata": {},
   "outputs": [],
   "source": [
    "#find all html tables in the web page\n",
    "tables = soup.find_all('table') # in html table is represented by the tag <table>"
   ]
  },
  {
   "cell_type": "code",
   "execution_count": 23,
   "metadata": {},
   "outputs": [
    {
     "output_type": "execute_result",
     "data": {
      "text/plain": [
       "26"
      ]
     },
     "metadata": {},
     "execution_count": 23
    }
   ],
   "source": [
    "# we can see how many tables were found by checking the length of the tables list\n",
    "len(tables)"
   ]
  },
  {
   "source": [
    "\n",
    "Assume that we are looking for the \"10 most densly populated countries table\", we can look through the tables list and find the right one we are look for based on the data in each table or we can search for the table name if it is in the table but this option might not always work."
   ],
   "cell_type": "markdown",
   "metadata": {}
  },
  {
   "cell_type": "code",
   "execution_count": 25,
   "metadata": {},
   "outputs": [
    {
     "output_type": "stream",
     "name": "stdout",
     "text": [
      "5\n"
     ]
    }
   ],
   "source": [
    "for index, table in enumerate(tables):\n",
    "    if (\"10 most densely populated countries\" in str(table)):\n",
    "        table_index = index\n",
    "print(table_index)"
   ]
  },
  {
   "source": [
    "When you use enumerate(), the function gives you back two loop variables:\n",
    "\n",
    "The count of the current iteration\n",
    "The value of the item at the current iteration"
   ],
   "cell_type": "markdown",
   "metadata": {}
  },
  {
   "source": [
    "In this case, the table would be at the 5th spot in the index"
   ],
   "cell_type": "markdown",
   "metadata": {}
  },
  {
   "cell_type": "code",
   "execution_count": 26,
   "metadata": {},
   "outputs": [
    {
     "output_type": "stream",
     "name": "stdout",
     "text": [
      "<table class=\"wikitable sortable\" style=\"text-align:right\">\n <caption>\n  10 most densely populated countries\n  <small>\n   (with population above 5 million)\n  </small>\n </caption>\n <tbody>\n  <tr>\n   <th>\n    Rank\n   </th>\n   <th>\n    Country\n   </th>\n   <th>\n    Population\n   </th>\n   <th>\n    Area\n    <br/>\n    <small>\n     (km\n     <sup>\n      2\n     </sup>\n     )\n    </small>\n   </th>\n   <th>\n    Density\n    <br/>\n    <small>\n     (pop/km\n     <sup>\n      2\n     </sup>\n     )\n    </small>\n   </th>\n  </tr>\n  <tr>\n   <td>\n    1\n   </td>\n   <td align=\"left\">\n    <span class=\"flagicon\">\n     <img alt=\"\" class=\"thumbborder\" data-file-height=\"2880\" data-file-width=\"4320\" decoding=\"async\" height=\"15\" src=\"//upload.wikimedia.org/wikipedia/commons/thumb/4/48/Flag_of_Singapore.svg/23px-Flag_of_Singapore.svg.png\" srcset=\"//upload.wikimedia.org/wikipedia/commons/thumb/4/48/Flag_of_Singapore.svg/35px-Flag_of_Singapore.svg.png 1.5x, //upload.wikimedia.org/wikipedia/commons/thumb/4/48/Flag_of_Singapore.svg/45px-Flag_of_Singapore.svg.png 2x\" width=\"23\"/>\n    </span>\n    <a href=\"/wiki/Singapore\" title=\"Singapore\">\n     Singapore\n    </a>\n   </td>\n   <td>\n    5,704,000\n   </td>\n   <td>\n    710\n   </td>\n   <td>\n    8,033\n   </td>\n  </tr>\n  <tr>\n   <td>\n    2\n   </td>\n   <td align=\"left\">\n    <span class=\"flagicon\">\n     <img alt=\"\" class=\"thumbborder\" data-file-height=\"600\" data-file-width=\"1000\" decoding=\"async\" height=\"14\" src=\"//upload.wikimedia.org/wikipedia/commons/thumb/f/f9/Flag_of_Bangladesh.svg/23px-Flag_of_Bangladesh.svg.png\" srcset=\"//upload.wikimedia.org/wikipedia/commons/thumb/f/f9/Flag_of_Bangladesh.svg/35px-Flag_of_Bangladesh.svg.png 1.5x, //upload.wikimedia.org/wikipedia/commons/thumb/f/f9/Flag_of_Bangladesh.svg/46px-Flag_of_Bangladesh.svg.png 2x\" width=\"23\"/>\n    </span>\n    <a href=\"/wiki/Bangladesh\" title=\"Bangladesh\">\n     Bangladesh\n    </a>\n   </td>\n   <td>\n    170,800,000\n   </td>\n   <td>\n    143,998\n   </td>\n   <td>\n    1,186\n   </td>\n  </tr>\n  <tr>\n   <td>\n    3\n   </td>\n   <td align=\"left\">\n    <span class=\"flagicon\">\n     <img alt=\"\" class=\"thumbborder\" data-file-height=\"600\" data-file-width=\"900\" decoding=\"async\" height=\"15\" src=\"//upload.wikimedia.org/wikipedia/commons/thumb/5/59/Flag_of_Lebanon.svg/23px-Flag_of_Lebanon.svg.png\" srcset=\"//upload.wikimedia.org/wikipedia/commons/thumb/5/59/Flag_of_Lebanon.svg/35px-Flag_of_Lebanon.svg.png 1.5x, //upload.wikimedia.org/wikipedia/commons/thumb/5/59/Flag_of_Lebanon.svg/45px-Flag_of_Lebanon.svg.png 2x\" width=\"23\"/>\n    </span>\n    <a href=\"/wiki/Lebanon\" title=\"Lebanon\">\n     Lebanon\n    </a>\n   </td>\n   <td>\n    6,856,000\n   </td>\n   <td>\n    10,452\n   </td>\n   <td>\n    656\n   </td>\n  </tr>\n  <tr>\n   <td>\n    4\n   </td>\n   <td align=\"left\">\n    <span class=\"flagicon\">\n     <img alt=\"\" class=\"thumbborder\" data-file-height=\"600\" data-file-width=\"900\" decoding=\"async\" height=\"15\" src=\"//upload.wikimedia.org/wikipedia/commons/thumb/7/72/Flag_of_the_Republic_of_China.svg/23px-Flag_of_the_Republic_of_China.svg.png\" srcset=\"//upload.wikimedia.org/wikipedia/commons/thumb/7/72/Flag_of_the_Republic_of_China.svg/35px-Flag_of_the_Republic_of_China.svg.png 1.5x, //upload.wikimedia.org/wikipedia/commons/thumb/7/72/Flag_of_the_Republic_of_China.svg/45px-Flag_of_the_Republic_of_China.svg.png 2x\" width=\"23\"/>\n    </span>\n    <a href=\"/wiki/Taiwan\" title=\"Taiwan\">\n     Taiwan\n    </a>\n   </td>\n   <td>\n    23,604,000\n   </td>\n   <td>\n    36,193\n   </td>\n   <td>\n    652\n   </td>\n  </tr>\n  <tr>\n   <td>\n    5\n   </td>\n   <td align=\"left\">\n    <span class=\"flagicon\">\n     <img alt=\"\" class=\"thumbborder\" data-file-height=\"600\" data-file-width=\"900\" decoding=\"async\" height=\"15\" src=\"//upload.wikimedia.org/wikipedia/commons/thumb/0/09/Flag_of_South_Korea.svg/23px-Flag_of_South_Korea.svg.png\" srcset=\"//upload.wikimedia.org/wikipedia/commons/thumb/0/09/Flag_of_South_Korea.svg/35px-Flag_of_South_Korea.svg.png 1.5x, //upload.wikimedia.org/wikipedia/commons/thumb/0/09/Flag_of_South_Korea.svg/45px-Flag_of_South_Korea.svg.png 2x\" width=\"23\"/>\n    </span>\n    <a href=\"/wiki/South_Korea\" title=\"South Korea\">\n     South Korea\n    </a>\n   </td>\n   <td>\n    51,781,000\n   </td>\n   <td>\n    99,538\n   </td>\n   <td>\n    520\n   </td>\n  </tr>\n  <tr>\n   <td>\n    6\n   </td>\n   <td align=\"left\">\n    <span class=\"flagicon\">\n     <img alt=\"\" class=\"thumbborder\" data-file-height=\"720\" data-file-width=\"1080\" decoding=\"async\" height=\"15\" src=\"//upload.wikimedia.org/wikipedia/commons/thumb/1/17/Flag_of_Rwanda.svg/23px-Flag_of_Rwanda.svg.png\" srcset=\"//upload.wikimedia.org/wikipedia/commons/thumb/1/17/Flag_of_Rwanda.svg/35px-Flag_of_Rwanda.svg.png 1.5x, //upload.wikimedia.org/wikipedia/commons/thumb/1/17/Flag_of_Rwanda.svg/45px-Flag_of_Rwanda.svg.png 2x\" width=\"23\"/>\n    </span>\n    <a href=\"/wiki/Rwanda\" title=\"Rwanda\">\n     Rwanda\n    </a>\n   </td>\n   <td>\n    12,374,000\n   </td>\n   <td>\n    26,338\n   </td>\n   <td>\n    470\n   </td>\n  </tr>\n  <tr>\n   <td>\n    7\n   </td>\n   <td align=\"left\">\n    <span class=\"flagicon\">\n     <img alt=\"\" class=\"thumbborder\" data-file-height=\"600\" data-file-width=\"1000\" decoding=\"async\" height=\"14\" src=\"//upload.wikimedia.org/wikipedia/commons/thumb/5/56/Flag_of_Haiti.svg/23px-Flag_of_Haiti.svg.png\" srcset=\"//upload.wikimedia.org/wikipedia/commons/thumb/5/56/Flag_of_Haiti.svg/35px-Flag_of_Haiti.svg.png 1.5x, //upload.wikimedia.org/wikipedia/commons/thumb/5/56/Flag_of_Haiti.svg/46px-Flag_of_Haiti.svg.png 2x\" width=\"23\"/>\n    </span>\n    <a href=\"/wiki/Haiti\" title=\"Haiti\">\n     Haiti\n    </a>\n   </td>\n   <td>\n    11,578,000\n   </td>\n   <td>\n    27,065\n   </td>\n   <td>\n    428\n   </td>\n  </tr>\n  <tr>\n   <td>\n    8\n   </td>\n   <td align=\"left\">\n    <span class=\"flagicon\">\n     <img alt=\"\" class=\"thumbborder\" data-file-height=\"600\" data-file-width=\"900\" decoding=\"async\" height=\"15\" src=\"//upload.wikimedia.org/wikipedia/commons/thumb/2/20/Flag_of_the_Netherlands.svg/23px-Flag_of_the_Netherlands.svg.png\" srcset=\"//upload.wikimedia.org/wikipedia/commons/thumb/2/20/Flag_of_the_Netherlands.svg/35px-Flag_of_the_Netherlands.svg.png 1.5x, //upload.wikimedia.org/wikipedia/commons/thumb/2/20/Flag_of_the_Netherlands.svg/45px-Flag_of_the_Netherlands.svg.png 2x\" width=\"23\"/>\n    </span>\n    <a href=\"/wiki/Netherlands\" title=\"Netherlands\">\n     Netherlands\n    </a>\n   </td>\n   <td>\n    17,600,000\n   </td>\n   <td>\n    41,526\n   </td>\n   <td>\n    424\n   </td>\n  </tr>\n  <tr>\n   <td>\n    9\n   </td>\n   <td align=\"left\">\n    <span class=\"flagicon\">\n     <img alt=\"\" class=\"thumbborder\" data-file-height=\"800\" data-file-width=\"1100\" decoding=\"async\" height=\"15\" src=\"//upload.wikimedia.org/wikipedia/commons/thumb/d/d4/Flag_of_Israel.svg/21px-Flag_of_Israel.svg.png\" srcset=\"//upload.wikimedia.org/wikipedia/commons/thumb/d/d4/Flag_of_Israel.svg/32px-Flag_of_Israel.svg.png 1.5x, //upload.wikimedia.org/wikipedia/commons/thumb/d/d4/Flag_of_Israel.svg/41px-Flag_of_Israel.svg.png 2x\" width=\"21\"/>\n    </span>\n    <a href=\"/wiki/Israel\" title=\"Israel\">\n     Israel\n    </a>\n   </td>\n   <td>\n    9,360,000\n   </td>\n   <td>\n    22,072\n   </td>\n   <td>\n    424\n   </td>\n  </tr>\n  <tr>\n   <td>\n    10\n   </td>\n   <td align=\"left\">\n    <span class=\"flagicon\">\n     <img alt=\"\" class=\"thumbborder\" data-file-height=\"900\" data-file-width=\"1350\" decoding=\"async\" height=\"15\" src=\"//upload.wikimedia.org/wikipedia/en/thumb/4/41/Flag_of_India.svg/23px-Flag_of_India.svg.png\" srcset=\"//upload.wikimedia.org/wikipedia/en/thumb/4/41/Flag_of_India.svg/35px-Flag_of_India.svg.png 1.5x, //upload.wikimedia.org/wikipedia/en/thumb/4/41/Flag_of_India.svg/45px-Flag_of_India.svg.png 2x\" width=\"23\"/>\n    </span>\n    <a href=\"/wiki/India\" title=\"India\">\n     India\n    </a>\n   </td>\n   <td>\n    1,377,930,000\n   </td>\n   <td>\n    3,287,240\n   </td>\n   <td>\n    419\n   </td>\n  </tr>\n </tbody>\n</table>\n\n"
     ]
    }
   ],
   "source": [
    "print(tables[table_index].prettify())"
   ]
  },
  {
   "cell_type": "code",
   "execution_count": 28,
   "metadata": {},
   "outputs": [
    {
     "output_type": "execute_result",
     "data": {
      "text/plain": [
       "  Rank       Country     Population       Area Density\n",
       "0    1     Singapore      5,704,000        710   8,033\n",
       "1    2    Bangladesh    170,800,000    143,998   1,186\n",
       "2    3       Lebanon      6,856,000     10,452     656\n",
       "3    4        Taiwan     23,604,000     36,193     652\n",
       "4    5   South Korea     51,781,000     99,538     520\n",
       "5    6        Rwanda     12,374,000     26,338     470\n",
       "6    7         Haiti     11,578,000     27,065     428\n",
       "7    8   Netherlands     17,600,000     41,526     424\n",
       "8    9        Israel      9,360,000     22,072     424\n",
       "9   10         India  1,377,930,000  3,287,240     419"
      ],
      "text/html": "<div>\n<style scoped>\n    .dataframe tbody tr th:only-of-type {\n        vertical-align: middle;\n    }\n\n    .dataframe tbody tr th {\n        vertical-align: top;\n    }\n\n    .dataframe thead th {\n        text-align: right;\n    }\n</style>\n<table border=\"1\" class=\"dataframe\">\n  <thead>\n    <tr style=\"text-align: right;\">\n      <th></th>\n      <th>Rank</th>\n      <th>Country</th>\n      <th>Population</th>\n      <th>Area</th>\n      <th>Density</th>\n    </tr>\n  </thead>\n  <tbody>\n    <tr>\n      <th>0</th>\n      <td>1</td>\n      <td>Singapore</td>\n      <td>5,704,000</td>\n      <td>710</td>\n      <td>8,033</td>\n    </tr>\n    <tr>\n      <th>1</th>\n      <td>2</td>\n      <td>Bangladesh</td>\n      <td>170,800,000</td>\n      <td>143,998</td>\n      <td>1,186</td>\n    </tr>\n    <tr>\n      <th>2</th>\n      <td>3</td>\n      <td>Lebanon</td>\n      <td>6,856,000</td>\n      <td>10,452</td>\n      <td>656</td>\n    </tr>\n    <tr>\n      <th>3</th>\n      <td>4</td>\n      <td>Taiwan</td>\n      <td>23,604,000</td>\n      <td>36,193</td>\n      <td>652</td>\n    </tr>\n    <tr>\n      <th>4</th>\n      <td>5</td>\n      <td>South Korea</td>\n      <td>51,781,000</td>\n      <td>99,538</td>\n      <td>520</td>\n    </tr>\n    <tr>\n      <th>5</th>\n      <td>6</td>\n      <td>Rwanda</td>\n      <td>12,374,000</td>\n      <td>26,338</td>\n      <td>470</td>\n    </tr>\n    <tr>\n      <th>6</th>\n      <td>7</td>\n      <td>Haiti</td>\n      <td>11,578,000</td>\n      <td>27,065</td>\n      <td>428</td>\n    </tr>\n    <tr>\n      <th>7</th>\n      <td>8</td>\n      <td>Netherlands</td>\n      <td>17,600,000</td>\n      <td>41,526</td>\n      <td>424</td>\n    </tr>\n    <tr>\n      <th>8</th>\n      <td>9</td>\n      <td>Israel</td>\n      <td>9,360,000</td>\n      <td>22,072</td>\n      <td>424</td>\n    </tr>\n    <tr>\n      <th>9</th>\n      <td>10</td>\n      <td>India</td>\n      <td>1,377,930,000</td>\n      <td>3,287,240</td>\n      <td>419</td>\n    </tr>\n  </tbody>\n</table>\n</div>"
     },
     "metadata": {},
     "execution_count": 28
    }
   ],
   "source": [
    "population_data = pd.DataFrame(columns=[\"Rank\", \"Country\", \"Population\", \"Area\", \"Density\"])\n",
    "\n",
    "for row in tables[table_index].tbody.find_all(\"tr\"):\n",
    "    col = row.find_all(\"td\")\n",
    "    if (col != []):\n",
    "        rank = col[0].text\n",
    "        country = col[1].text\n",
    "        population = col[2].text.strip()\n",
    "        area = col[3].text.strip()\n",
    "        density = col[4].text.strip()\n",
    "        population_data = population_data.append({\"Rank\":rank, \"Country\":country, \"Population\":population, \"Area\":area, \"Density\":density}, ignore_index=True)\n",
    "\n",
    "population_data"
   ]
  },
  {
   "source": [
    "tr is table row td is data cell th is header cell"
   ],
   "cell_type": "markdown",
   "metadata": {}
  },
  {
   "cell_type": "code",
   "execution_count": null,
   "metadata": {},
   "outputs": [],
   "source": []
  }
 ]
}