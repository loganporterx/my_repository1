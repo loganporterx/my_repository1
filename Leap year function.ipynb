{
 "cells": [
  {
   "cell_type": "markdown",
   "id": "f3fd0cd0",
   "metadata": {},
   "source": [
    "# Create a function"
   ]
  },
  {
   "cell_type": "markdown",
   "id": "0c736b95",
   "metadata": {},
   "source": [
    "Given a year, determine whether it is a leap year. \n",
    "\n",
    "If it is a leap year, return the Boolean True, otherwise return False.\n",
    "\n",
    "Note that the code stub provided reads from STDIN and passes arguments to the is_leap function. \n",
    "\n",
    "It is only necessary to complete the is_leap function."
   ]
  },
  {
   "cell_type": "markdown",
   "id": "1aed233e",
   "metadata": {},
   "source": [
    "The year can be evenly divided by 4, is a leap year, unless:\n",
    "    \n",
    "The year can be evenly divided by 100, it is NOT a leap year, unless:\n",
    "    \n",
    "The year is also evenly divisible by 400. Then it is a leap year."
   ]
  },
  {
   "cell_type": "code",
   "execution_count": 3,
   "id": "32cdde1a",
   "metadata": {},
   "outputs": [
    {
     "name": "stdout",
     "output_type": "stream",
     "text": [
      "1990\n",
      "False\n"
     ]
    }
   ],
   "source": [
    "def is_leap(year):\n",
    "    leap = True\n",
    "    \n",
    "    # Write your logic here\n",
    "    return (year%4 == 0) and (year%100 != 0 or year%400 ==0)\n",
    "        \n",
    "year = int(input())\n",
    "print(is_leap(year))"
   ]
  },
  {
   "cell_type": "markdown",
   "id": "13ff51f0",
   "metadata": {},
   "source": [
    "I kept making if/else statements with print, but return will return true or false, \n",
    "\n",
    "and that is all we needed"
   ]
  }
 ],
 "metadata": {
  "kernelspec": {
   "display_name": "Python 3",
   "language": "python",
   "name": "python3"
  },
  "language_info": {
   "codemirror_mode": {
    "name": "ipython",
    "version": 3
   },
   "file_extension": ".py",
   "mimetype": "text/x-python",
   "name": "python",
   "nbconvert_exporter": "python",
   "pygments_lexer": "ipython3",
   "version": "3.8.8"
  }
 },
 "nbformat": 4,
 "nbformat_minor": 5
}
