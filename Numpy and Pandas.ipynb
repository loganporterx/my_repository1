{
 "cells": [
  {
   "cell_type": "code",
   "execution_count": 5,
   "id": "fddd402d",
   "metadata": {},
   "outputs": [],
   "source": [
    "import pandas as pd\n",
    "import numpy as np"
   ]
  },
  {
   "cell_type": "code",
   "execution_count": 16,
   "id": "0ce97301",
   "metadata": {},
   "outputs": [],
   "source": [
    "# Import the libraries\n",
    "\n",
    "import time \n",
    "import sys\n",
    "\n",
    "import matplotlib.pyplot as plt\n",
    "%matplotlib inline  "
   ]
  },
  {
   "cell_type": "code",
   "execution_count": 6,
   "id": "1c6e4f57",
   "metadata": {},
   "outputs": [
    {
     "data": {
      "text/plain": [
       "0"
      ]
     },
     "execution_count": 6,
     "metadata": {},
     "output_type": "execute_result"
    }
   ],
   "source": [
    "a=np.array([-1,1])\n",
    "b=np.array([1,1])\n",
    "np.dot(a,b) "
   ]
  },
  {
   "cell_type": "code",
   "execution_count": 9,
   "id": "08a8fd69",
   "metadata": {},
   "outputs": [],
   "source": [
    "X=np.array([[1,0],[0,1]])\n",
    "Y=np.array([[0,1],[1,0]])\n",
    "Z=X+Y"
   ]
  },
  {
   "cell_type": "code",
   "execution_count": 10,
   "id": "6779f81e",
   "metadata": {},
   "outputs": [
    {
     "data": {
      "text/plain": [
       "array([[1, 1],\n",
       "       [1, 1]])"
      ]
     },
     "execution_count": 10,
     "metadata": {},
     "output_type": "execute_result"
    }
   ],
   "source": [
    "Z"
   ]
  },
  {
   "cell_type": "code",
   "execution_count": 11,
   "id": "897f215f",
   "metadata": {},
   "outputs": [
    {
     "data": {
      "text/plain": [
       "array([0, 1])"
      ]
     },
     "execution_count": 11,
     "metadata": {},
     "output_type": "execute_result"
    }
   ],
   "source": [
    "X=np.array([[1,0,1],[2,2,2]]) \n",
    "out=X[0,1:3]\n",
    "out\n"
   ]
  },
  {
   "cell_type": "code",
   "execution_count": 13,
   "id": "70409341",
   "metadata": {},
   "outputs": [
    {
     "data": {
      "text/plain": [
       "array([[2, 1],\n",
       "       [1, 2]])"
      ]
     },
     "execution_count": 13,
     "metadata": {},
     "output_type": "execute_result"
    }
   ],
   "source": [
    "X=np.array([[1,0],[0,1]])\n",
    "Y=np.array([[2,1],[1,2]]) \n",
    "Z=np.dot(X,Y)\n",
    "Z"
   ]
  },
  {
   "cell_type": "markdown",
   "id": "fc3a1b5e",
   "metadata": {},
   "source": [
    "linspace"
   ]
  },
  {
   "cell_type": "markdown",
   "id": "350e2ae3",
   "metadata": {},
   "source": [
    "Convert the list [-1, 1] and [1, 1] to numpy arrays a and b. \n",
    "\n",
    "Then, plot the arrays as vectors using the fuction Plotvec2 and find their dot product:"
   ]
  },
  {
   "cell_type": "code",
   "execution_count": 22,
   "id": "076fd7f0",
   "metadata": {},
   "outputs": [
    {
     "name": "stdout",
     "output_type": "stream",
     "text": [
      "The dot product is 0\n"
     ]
    },
    {
     "data": {
      "image/png": "[encoded data removed]",
      "text/plain": [
       "<Figure size 432x288 with 1 Axes>"
      ]
     },
     "metadata": {
      "needs_background": "light"
     },
     "output_type": "display_data"
    }
   ],
   "source": [
    "a = np.array([-1, 1])\n",
    "b = np.array([1, 1])\n",
    "Plotvec2(a, b)\n",
    "print(\"The dot product is\", np.dot(a,b))"
   ]
  },
  {
   "cell_type": "markdown",
   "id": "7aeed910",
   "metadata": {},
   "source": [
    "loc is label-based (and int), which means that you have to specify rows and columns based on their row and column labels.\n",
    "\n",
    "iloc is integer position-based, so you have to specify rows and columns by their integer position values (0-based integer position)."
   ]
  }
 ],
 "metadata": {
  "kernelspec": {
   "display_name": "Python 3",
   "language": "python",
   "name": "python3"
  },
  "language_info": {
   "codemirror_mode": {
    "name": "ipython",
    "version": 3
   },
   "file_extension": ".py",
   "mimetype": "text/x-python",
   "name": "python",
   "nbconvert_exporter": "python",
   "pygments_lexer": "ipython3",
   "version": "3.8.8"
  }
 },
 "nbformat": 4,
 "nbformat_minor": 5
}
