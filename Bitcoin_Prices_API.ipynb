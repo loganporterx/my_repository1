{
 "metadata": {
  "language_info": {
   "codemirror_mode": {
    "name": "ipython",
    "version": 3
   },
   "file_extension": ".py",
   "mimetype": "text/x-python",
   "name": "python",
   "nbconvert_exporter": "python",
   "pygments_lexer": "ipython3",
   "version": "3.9.2"
  },
  "orig_nbformat": 2,
  "kernelspec": {
   "name": "python392jvsc74a57bd05705c012bca1031ae7736c26effddb105a89bd7d9bd0be8200fc320c486405e7",
   "display_name": "Python 3.9.2 64-bit"
  },
  "metadata": {
   "interpreter": {
    "hash": "5705c012bca1031ae7736c26effddb105a89bd7d9bd0be8200fc320c486405e7"
   }
  }
 },
 "nbformat": 4,
 "nbformat_minor": 2,
 "cells": [
  {
   "source": [
    "BITCOIN:¶\n",
    "Using Coingecko API to create candlestick graph for Bitcoin.\n",
    "\n",
    "We will use the API to get the price data for 30 days with 24 observation per day, 1 per hour.\n",
    "\n",
    "We will find the max, min, open, and close price per day meaning we will have 30 candlesticks and use that to generate the candlestick graph.\n",
    "\n",
    "Although we are using the CoinGecko API we will use a Python client/wrapper for the API called PyCoinGecko.\n",
    "\n",
    "PyCoinGecko will make performing the requests easy and it will deal with the enpoint targeting."
   ],
   "cell_type": "markdown",
   "metadata": {}
  },
  {
   "cell_type": "code",
   "execution_count": 7,
   "metadata": {},
   "outputs": [
    {
     "output_type": "stream",
     "name": "stdout",
     "text": [
      "Requirement already satisfied: pycoingecko in c:\\users\\logan\\desktop\\cs50 materials\\lib\\site-packages (2.1.0)\n",
      "Requirement already satisfied: requests in c:\\users\\logan\\desktop\\cs50 materials\\lib\\site-packages (from pycoingecko) (2.25.1)\n",
      "Requirement already satisfied: urllib3<1.27,>=1.21.1 in c:\\users\\logan\\desktop\\cs50 materials\\lib\\site-packages (from requests->pycoingecko) (1.26.5)\n",
      "Requirement already satisfied: idna<3,>=2.5 in c:\\users\\logan\\desktop\\cs50 materials\\lib\\site-packages (from requests->pycoingecko) (2.10)\n",
      "Requirement already satisfied: certifi>=2017.4.17 in c:\\users\\logan\\desktop\\cs50 materials\\lib\\site-packages (from requests->pycoingecko) (2021.5.30)\n",
      "Requirement already satisfied: chardet<5,>=3.0.2 in c:\\users\\logan\\desktop\\cs50 materials\\lib\\site-packages (from requests->pycoingecko) (4.0.0)\n",
      "Requirement already satisfied: plotly in c:\\users\\logan\\desktop\\cs50 materials\\lib\\site-packages (4.14.3)\n",
      "Requirement already satisfied: six in c:\\users\\logan\\desktop\\cs50 materials\\lib\\site-packages (from plotly) (1.16.0)\n",
      "Requirement already satisfied: retrying>=1.3.3 in c:\\users\\logan\\desktop\\cs50 materials\\lib\\site-packages (from plotly) (1.3.3)\n",
      "Requirement already satisfied: mplfinance in c:\\users\\logan\\desktop\\cs50 materials\\lib\\site-packages (0.12.7a17)\n",
      "Requirement already satisfied: pandas in c:\\users\\logan\\desktop\\cs50 materials\\lib\\site-packages (from mplfinance) (1.2.4)\n",
      "Requirement already satisfied: matplotlib in c:\\users\\logan\\desktop\\cs50 materials\\lib\\site-packages (from mplfinance) (3.4.2)\n",
      "Requirement already satisfied: cycler>=0.10 in c:\\users\\logan\\desktop\\cs50 materials\\lib\\site-packages (from matplotlib->mplfinance) (0.10.0)\n",
      "Requirement already satisfied: python-dateutil>=2.7 in c:\\users\\logan\\desktop\\cs50 materials\\lib\\site-packages (from matplotlib->mplfinance) (2.8.1)\n",
      "Requirement already satisfied: numpy>=1.16 in c:\\users\\logan\\desktop\\cs50 materials\\lib\\site-packages (from matplotlib->mplfinance) (1.20.3)\n",
      "Requirement already satisfied: pillow>=6.2.0 in c:\\users\\logan\\desktop\\cs50 materials\\lib\\site-packages (from matplotlib->mplfinance) (8.2.0)\n",
      "Requirement already satisfied: pyparsing>=2.2.1 in c:\\users\\logan\\desktop\\cs50 materials\\lib\\site-packages (from matplotlib->mplfinance) (2.4.7)\n",
      "Requirement already satisfied: kiwisolver>=1.0.1 in c:\\users\\logan\\desktop\\cs50 materials\\lib\\site-packages (from matplotlib->mplfinance) (1.3.1)\n",
      "Requirement already satisfied: six in c:\\users\\logan\\desktop\\cs50 materials\\lib\\site-packages (from cycler>=0.10->matplotlib->mplfinance) (1.16.0)\n",
      "Requirement already satisfied: pytz>=2017.3 in c:\\users\\logan\\desktop\\cs50 materials\\lib\\site-packages (from pandas->mplfinance) (2021.1)\n",
      "Requirement already satisfied: nbformat in c:\\users\\logan\\desktop\\cs50 materials\\lib\\site-packages (5.1.3)\n",
      "Requirement already satisfied: traitlets>=4.1 in c:\\users\\logan\\appdata\\roaming\\python\\python39\\site-packages (from nbformat) (5.0.5)\n",
      "Requirement already satisfied: jupyter-core in c:\\users\\logan\\appdata\\roaming\\python\\python39\\site-packages (from nbformat) (4.7.1)\n",
      "Requirement already satisfied: ipython-genutils in c:\\users\\logan\\appdata\\roaming\\python\\python39\\site-packages (from nbformat) (0.2.0)\n",
      "Requirement already satisfied: jsonschema!=2.5.0,>=2.4 in c:\\users\\logan\\desktop\\cs50 materials\\lib\\site-packages (from nbformat) (3.2.0)\n",
      "Requirement already satisfied: six>=1.11.0 in c:\\users\\logan\\desktop\\cs50 materials\\lib\\site-packages (from jsonschema!=2.5.0,>=2.4->nbformat) (1.16.0)\n",
      "Requirement already satisfied: setuptools in c:\\users\\logan\\desktop\\cs50 materials\\lib\\site-packages (from jsonschema!=2.5.0,>=2.4->nbformat) (49.2.1)\n",
      "Requirement already satisfied: attrs>=17.4.0 in c:\\users\\logan\\desktop\\cs50 materials\\lib\\site-packages (from jsonschema!=2.5.0,>=2.4->nbformat) (21.2.0)\n",
      "Requirement already satisfied: pyrsistent>=0.14.0 in c:\\users\\logan\\desktop\\cs50 materials\\lib\\site-packages (from jsonschema!=2.5.0,>=2.4->nbformat) (0.17.3)\n",
      "Requirement already satisfied: pywin32>=1.0 in c:\\users\\logan\\appdata\\roaming\\python\\python39\\site-packages (from jupyter-core->nbformat) (301)\n",
      "Requirement already satisfied: nbformat in c:\\users\\logan\\desktop\\cs50 materials\\lib\\site-packages (5.1.3)\n",
      "Requirement already satisfied: traitlets>=4.1 in c:\\users\\logan\\appdata\\roaming\\python\\python39\\site-packages (from nbformat) (5.0.5)\n",
      "Requirement already satisfied: ipython-genutils in c:\\users\\logan\\appdata\\roaming\\python\\python39\\site-packages (from nbformat) (0.2.0)\n",
      "Requirement already satisfied: jsonschema!=2.5.0,>=2.4 in c:\\users\\logan\\desktop\\cs50 materials\\lib\\site-packages (from nbformat) (3.2.0)\n",
      "Requirement already satisfied: jupyter-core in c:\\users\\logan\\appdata\\roaming\\python\\python39\\site-packages (from nbformat) (4.7.1)\n",
      "Requirement already satisfied: setuptools in c:\\users\\logan\\desktop\\cs50 materials\\lib\\site-packages (from jsonschema!=2.5.0,>=2.4->nbformat) (49.2.1)\n",
      "Requirement already satisfied: six>=1.11.0 in c:\\users\\logan\\desktop\\cs50 materials\\lib\\site-packages (from jsonschema!=2.5.0,>=2.4->nbformat) (1.16.0)\n",
      "Requirement already satisfied: attrs>=17.4.0 in c:\\users\\logan\\desktop\\cs50 materials\\lib\\site-packages (from jsonschema!=2.5.0,>=2.4->nbformat) (21.2.0)\n",
      "Requirement already satisfied: pyrsistent>=0.14.0 in c:\\users\\logan\\desktop\\cs50 materials\\lib\\site-packages (from jsonschema!=2.5.0,>=2.4->nbformat) (0.17.3)\n",
      "Requirement already satisfied: pywin32>=1.0 in c:\\users\\logan\\appdata\\roaming\\python\\python39\\site-packages (from jupyter-core->nbformat) (301)\n"
     ]
    }
   ],
   "source": [
    "!pip install pycoingecko\n",
    "!pip install plotly\n",
    "!pip install mplfinance\n",
    "!pip install nbformat\n",
    "!pip install --upgrade nbformat\n"
   ]
  },
  {
   "cell_type": "code",
   "execution_count": 8,
   "metadata": {},
   "outputs": [],
   "source": [
    "import pandas as pd\n",
    "import numpy as np\n",
    "import plotly.graph_objects as go\n",
    "from plotly.offline import plot\n",
    "import matplotlib.pyplot as plt\n",
    "import datetime\n",
    "from pycoingecko import CoinGeckoAPI\n",
    "from mplfinance.original_flavor import candlestick2_ohlc\n",
    "import nbformat"
   ]
  },
  {
   "source": [
    "Retrieving the Data.¶\n",
    "Using the get_coin_market_chart_by_id(id, vs_currency, days).\n",
    "\n",
    "id is the name of the coin you want,\n",
    "\n",
    "vs_currency is the currency you want the price in,\n",
    "\n",
    "days is how many days back from today you want."
   ],
   "cell_type": "markdown",
   "metadata": {}
  },
  {
   "cell_type": "code",
   "execution_count": 9,
   "metadata": {},
   "outputs": [],
   "source": [
    "cg = CoinGeckoAPI()\n",
    "\n",
    "bitcoin_data = cg.get_coin_market_chart_by_id(id='bitcoin', vs_currency='usd', days=30)"
   ]
  },
  {
   "cell_type": "code",
   "execution_count": 10,
   "metadata": {},
   "outputs": [
    {
     "output_type": "execute_result",
     "data": {
      "text/plain": [
       "dict"
      ]
     },
     "metadata": {},
     "execution_count": 10
    }
   ],
   "source": [
    "type(bitcoin_data)"
   ]
  },
  {
   "source": [
    "data = pd.DataFrame(bitcoin_data)\n",
    "data.head()"
   ],
   "cell_type": "code",
   "metadata": {},
   "execution_count": 11,
   "outputs": [
    {
     "output_type": "execute_result",
     "data": {
      "text/plain": [
       "                                prices                          market_caps  \\\n",
       "0    [1620676964675, 56010.8323693779]   [1620676964675, 1047748040121.421]   \n",
       "1   [1620680581083, 55240.32123935162]  [1620680581083, 1033336497167.5593]   \n",
       "2  [1620684096840, 55994.192668268144]  [1620684096840, 1047440974641.4423]   \n",
       "3   [1620687768554, 56274.44427494624]  [1620687768554, 1052685905372.6512]   \n",
       "4   [1620691322924, 55901.66759456145]  [1620691322924, 1045714370754.1615]   \n",
       "\n",
       "                        total_volumes  \n",
       "0   [1620676964675, 70779739753.5695]  \n",
       "1  [1620680581083, 73125501113.53194]  \n",
       "2  [1620684096840, 77007537203.23456]  \n",
       "3  [1620687768554, 78031062256.16512]  \n",
       "4  [1620691322924, 76672978747.69038]  "
      ],
      "text/html": "<div>\n<style scoped>\n    .dataframe tbody tr th:only-of-type {\n        vertical-align: middle;\n    }\n\n    .dataframe tbody tr th {\n        vertical-align: top;\n    }\n\n    .dataframe thead th {\n        text-align: right;\n    }\n</style>\n<table border=\"1\" class=\"dataframe\">\n  <thead>\n    <tr style=\"text-align: right;\">\n      <th></th>\n      <th>prices</th>\n      <th>market_caps</th>\n      <th>total_volumes</th>\n    </tr>\n  </thead>\n  <tbody>\n    <tr>\n      <th>0</th>\n      <td>[1620676964675, 56010.8323693779]</td>\n      <td>[1620676964675, 1047748040121.421]</td>\n      <td>[1620676964675, 70779739753.5695]</td>\n    </tr>\n    <tr>\n      <th>1</th>\n      <td>[1620680581083, 55240.32123935162]</td>\n      <td>[1620680581083, 1033336497167.5593]</td>\n      <td>[1620680581083, 73125501113.53194]</td>\n    </tr>\n    <tr>\n      <th>2</th>\n      <td>[1620684096840, 55994.192668268144]</td>\n      <td>[1620684096840, 1047440974641.4423]</td>\n      <td>[1620684096840, 77007537203.23456]</td>\n    </tr>\n    <tr>\n      <th>3</th>\n      <td>[1620687768554, 56274.44427494624]</td>\n      <td>[1620687768554, 1052685905372.6512]</td>\n      <td>[1620687768554, 78031062256.16512]</td>\n    </tr>\n    <tr>\n      <th>4</th>\n      <td>[1620691322924, 55901.66759456145]</td>\n      <td>[1620691322924, 1045714370754.1615]</td>\n      <td>[1620691322924, 76672978747.69038]</td>\n    </tr>\n  </tbody>\n</table>\n</div>"
     },
     "metadata": {},
     "execution_count": 11
    }
   ]
  },
  {
   "source": [
    "The response we get is in the form of a JSON which includes the price, market caps, and total volumes along with timestamps for each observation.\n",
    "\n",
    "We are focused on the prices so we will select that data."
   ],
   "cell_type": "markdown",
   "metadata": {}
  },
  {
   "cell_type": "code",
   "execution_count": 12,
   "metadata": {},
   "outputs": [
    {
     "output_type": "execute_result",
     "data": {
      "text/plain": [
       "[[1620676964675, 56010.8323693779],\n",
       " [1620680581083, 55240.32123935162],\n",
       " [1620684096840, 55994.192668268144],\n",
       " [1620687768554, 56274.44427494624],\n",
       " [1620691322924, 55901.66759456145]]"
      ]
     },
     "metadata": {},
     "execution_count": 12
    }
   ],
   "source": [
    "bitcoin_price_data = bitcoin_data['prices']\n",
    "\n",
    "bitcoin_price_data[0:5]"
   ]
  },
  {
   "cell_type": "code",
   "execution_count": 13,
   "metadata": {},
   "outputs": [
    {
     "output_type": "execute_result",
     "data": {
      "text/plain": [
       "list"
      ]
     },
     "metadata": {},
     "execution_count": 13
    }
   ],
   "source": [
    "type(bitcoin_price_data)"
   ]
  },
  {
   "source": [
    "Turning this data into a Pandas DataFrame."
   ],
   "cell_type": "markdown",
   "metadata": {}
  },
  {
   "cell_type": "code",
   "execution_count": 14,
   "metadata": {},
   "outputs": [],
   "source": [
    "data = pd.DataFrame(bitcoin_price_data, columns=['TimeStamp', 'Price'])"
   ]
  },
  {
   "cell_type": "code",
   "execution_count": 15,
   "metadata": {},
   "outputs": [
    {
     "output_type": "execute_result",
     "data": {
      "text/plain": [
       "pandas.core.frame.DataFrame"
      ]
     },
     "metadata": {},
     "execution_count": 15
    }
   ],
   "source": [
    "type(data)"
   ]
  },
  {
   "source": [
    "Now that we have the DataFrame we will convert the timestamp to datetime and save it as a column called Date. We will map our unix_to_datetime to each timestamp and convert it to a readable datetime."
   ],
   "cell_type": "markdown",
   "metadata": {}
  },
  {
   "cell_type": "code",
   "execution_count": 16,
   "metadata": {},
   "outputs": [],
   "source": [
    "data['date'] = data['TimeStamp'].apply(lambda d: datetime.date.fromtimestamp(d/1000.0))"
   ]
  },
  {
   "source": [
    "apply() function calls the lambda function and applies it to every row or column of the dataframe and returns a modified copy of the dataframe.\n",
    "\n",
    "So here we are making a new column called date, from the timestamp column, by applying date.time function and\n",
    " dividing every row and column by 1000"
   ],
   "cell_type": "markdown",
   "metadata": {}
  },
  {
   "source": [
    "candlestick_data = data.groupby(data.date, as_index=False).agg({\"Price\": ['min', 'max', 'first', 'last']})"
   ],
   "cell_type": "code",
   "metadata": {},
   "execution_count": 17,
   "outputs": []
  },
  {
   "source": [
    "Using this modified dataset we can now group by the Date and find the min, max, open, and close for the candlesticks."
   ],
   "cell_type": "markdown",
   "metadata": {}
  },
  {
   "source": [
    "Finally we are now ready to use plotly to create our Candlestick Chart."
   ],
   "cell_type": "markdown",
   "metadata": {}
  },
  {
   "cell_type": "code",
   "execution_count": 20,
   "metadata": {},
   "outputs": [
    {
     "output_type": "display_data",
     "data": {
      "application/vnd.plotly.v1+json": {
       "config": {
        "plotlyServerURL": "https://plot.ly"
       },
       "data": [
        {
         "close": [
          54951.20708027075,
          57089.140196350716,
          50476.40626469657,
          49636.6887234903,
          50239.45458169797,
          48195.34276868504,
          44494.364641871194,
          45101.47931691331,
          40941.398919030034,
          38279.02529741349,
          41061.173447417365,
          37726.78234990529,
          37480.9380161913,
          35531.53082944085,
          38049.7756992828,
          39227.32107859811,
          37406.487684034626,
          38295.28065316981,
          36388.21729949981,
          34754.85198751133,
          34570.49978189618,
          37047.70128182215,
          36678.188247315295,
          37408.51138091805,
          37697.47690286989,
          37966.09130631886,
          36169.5585581402,
          36750.90365081315,
          32679.00971257657,
          32858.18793294639,
          36252.14919469236
         ],
         "high": [
          56274.44427494624,
          57248.057329835334,
          57781.57445959879,
          51259.47411845293,
          51253.26526154562,
          49774.39899381074,
          49676.81873777044,
          45850.45500825522,
          45549.156681471184,
          40764.05760387883,
          41947.19671093911,
          41757.137344607865,
          38546.59909947474,
          37528.234491734875,
          40417.617244024776,
          39227.32107859811,
          40556.61755303835,
          40109.30184969603,
          37813.73773492223,
          37050.55615180217,
          36251.76133256518,
          37715.79881980798,
          37464.24737657327,
          38174.22541834545,
          39501.06567274244,
          37966.09130631886,
          37916.83755472845,
          36750.90365081315,
          36746.28955362957,
          33824.01449255191,
          36671.37463228384
         ],
         "low": [
          54951.20708027075,
          55037.47064453909,
          49939.66504301437,
          48267.77747317404,
          49049.41867355618,
          46780.902304688214,
          44490.79522240914,
          42600.14692405195,
          40941.398919030034,
          36573.548038076166,
          39294.592658349065,
          34386.60959211036,
          35920.891746795896,
          32458.122485384694,
          34850.73178718457,
          36755.33313654478,
          37406.487684034626,
          37594.83062569511,
          35076.87252155225,
          33846.60781998234,
          34570.49978189618,
          34306.8967583359,
          35663.45300256384,
          36655.472370363466,
          37685.597778757234,
          36321.02506181852,
          35072.140405020444,
          35502.10823448369,
          32679.00971257657,
          31681.5626680888,
          32960.48472186524
         ],
         "open": [
          56010.8323693779,
          55160.047634602895,
          57781.57445959879,
          50736.865423796546,
          49203.98569528066,
          49774.39899381074,
          48300.675732949945,
          43284.65362660308,
          44766.83092660281,
          40599.49049716066,
          39893.40133134107,
          40684.88601073634,
          37355.30989895988,
          37528.234491734875,
          35308.339314329736,
          38431.38303890321,
          39539.04244838308,
          37594.83062569511,
          37813.73773492223,
          36454.55589719113,
          34744.1111359633,
          34306.8967583359,
          36635.540285086034,
          36734.905871017734,
          37685.597778757234,
          37857.12217441533,
          37532.07161753579,
          35972.47365853124,
          36654.01540186706,
          32991.15279832795,
          32994.4286964301
         ],
         "type": "candlestick",
         "x": [
          "2021-05-10",
          "2021-05-11",
          "2021-05-12",
          "2021-05-13",
          "2021-05-14",
          "2021-05-15",
          "2021-05-16",
          "2021-05-17",
          "2021-05-18",
          "2021-05-19",
          "2021-05-20",
          "2021-05-21",
          "2021-05-22",
          "2021-05-23",
          "2021-05-24",
          "2021-05-25",
          "2021-05-26",
          "2021-05-27",
          "2021-05-28",
          "2021-05-29",
          "2021-05-30",
          "2021-05-31",
          "2021-06-01",
          "2021-06-02",
          "2021-06-03",
          "2021-06-04",
          "2021-06-05",
          "2021-06-06",
          "2021-06-07",
          "2021-06-08",
          "2021-06-09"
         ]
        }
       ],
       "layout": {
        "template": {
         "data": {
          "bar": [
           {
            "error_x": {
             "color": "#2a3f5f"
            },
            "error_y": {
             "color": "#2a3f5f"
            },
            "marker": {
             "line": {
              "color": "#E5ECF6",
              "width": 0.5
             }
            },
            "type": "bar"
           }
          ],
          "barpolar": [
           {
            "marker": {
             "line": {
              "color": "#E5ECF6",
              "width": 0.5
             }
            },
            "type": "barpolar"
           }
          ],
          "carpet": [
           {
            "aaxis": {
             "endlinecolor": "#2a3f5f",
             "gridcolor": "white",
             "linecolor": "white",
             "minorgridcolor": "white",
             "startlinecolor": "#2a3f5f"
            },
            "baxis": {
             "endlinecolor": "#2a3f5f",
             "gridcolor": "white",
             "linecolor": "white",
             "minorgridcolor": "white",
             "startlinecolor": "#2a3f5f"
            },
            "type": "carpet"
           }
          ],
          "choropleth": [
           {
            "colorbar": {
             "outlinewidth": 0,
             "ticks": ""
            },
            "type": "choropleth"
           }
          ],
          "contour": [
           {
            "colorbar": {
             "outlinewidth": 0,
             "ticks": ""
            },
            "colorscale": [
             [
              0,
              "#0d0887"
             ],
             [
              0.1111111111111111,
              "#46039f"
             ],
             [
              0.2222222222222222,
              "#7201a8"
             ],
             [
              0.3333333333333333,
              "#9c179e"
             ],
             [
              0.4444444444444444,
              "#bd3786"
             ],
             [
              0.5555555555555556,
              "#d8576b"
             ],
             [
              0.6666666666666666,
              "#ed7953"
             ],
             [
              0.7777777777777778,
              "#fb9f3a"
             ],
             [
              0.8888888888888888,
              "#fdca26"
             ],
             [
              1,
              "#f0f921"
             ]
            ],
            "type": "contour"
           }
          ],
          "contourcarpet": [
           {
            "colorbar": {
             "outlinewidth": 0,
             "ticks": ""
            },
            "type": "contourcarpet"
           }
          ],
          "heatmap": [
           {
            "colorbar": {
             "outlinewidth": 0,
             "ticks": ""
            },
            "colorscale": [
             [
              0,
              "#0d0887"
             ],
             [
              0.1111111111111111,
              "#46039f"
             ],
             [
              0.2222222222222222,
              "#7201a8"
             ],
             [
              0.3333333333333333,
              "#9c179e"
             ],
             [
              0.4444444444444444,
              "#bd3786"
             ],
             [
              0.5555555555555556,
              "#d8576b"
             ],
             [
              0.6666666666666666,
              "#ed7953"
             ],
             [
              0.7777777777777778,
              "#fb9f3a"
             ],
             [
              0.8888888888888888,
              "#fdca26"
             ],
             [
              1,
              "#f0f921"
             ]
            ],
            "type": "heatmap"
           }
          ],
          "heatmapgl": [
           {
            "colorbar": {
             "outlinewidth": 0,
             "ticks": ""
            },
            "colorscale": [
             [
              0,
              "#0d0887"
             ],
             [
              0.1111111111111111,
              "#46039f"
             ],
             [
              0.2222222222222222,
              "#7201a8"
             ],
             [
              0.3333333333333333,
              "#9c179e"
             ],
             [
              0.4444444444444444,
              "#bd3786"
             ],
             [
              0.5555555555555556,
              "#d8576b"
             ],
             [
              0.6666666666666666,
              "#ed7953"
             ],
             [
              0.7777777777777778,
              "#fb9f3a"
             ],
             [
              0.8888888888888888,
              "#fdca26"
             ],
             [
              1,
              "#f0f921"
             ]
            ],
            "type": "heatmapgl"
           }
          ],
          "histogram": [
           {
            "marker": {
             "colorbar": {
              "outlinewidth": 0,
              "ticks": ""
             }
            },
            "type": "histogram"
           }
          ],
          "histogram2d": [
           {
            "colorbar": {
             "outlinewidth": 0,
             "ticks": ""
            },
            "colorscale": [
             [
              0,
              "#0d0887"
             ],
             [
              0.1111111111111111,
              "#46039f"
             ],
             [
              0.2222222222222222,
              "#7201a8"
             ],
             [
              0.3333333333333333,
              "#9c179e"
             ],
             [
              0.4444444444444444,
              "#bd3786"
             ],
             [
              0.5555555555555556,
              "#d8576b"
             ],
             [
              0.6666666666666666,
              "#ed7953"
             ],
             [
              0.7777777777777778,
              "#fb9f3a"
             ],
             [
              0.8888888888888888,
              "#fdca26"
             ],
             [
              1,
              "#f0f921"
             ]
            ],
            "type": "histogram2d"
           }
          ],
          "histogram2dcontour": [
           {
            "colorbar": {
             "outlinewidth": 0,
             "ticks": ""
            },
            "colorscale": [
             [
              0,
              "#0d0887"
             ],
             [
              0.1111111111111111,
              "#46039f"
             ],
             [
              0.2222222222222222,
              "#7201a8"
             ],
             [
              0.3333333333333333,
              "#9c179e"
             ],
             [
              0.4444444444444444,
              "#bd3786"
             ],
             [
              0.5555555555555556,
              "#d8576b"
             ],
             [
              0.6666666666666666,
              "#ed7953"
             ],
             [
              0.7777777777777778,
              "#fb9f3a"
             ],
             [
              0.8888888888888888,
              "#fdca26"
             ],
             [
              1,
              "#f0f921"
             ]
            ],
            "type": "histogram2dcontour"
           }
          ],
          "mesh3d": [
           {
            "colorbar": {
             "outlinewidth": 0,
             "ticks": ""
            },
            "type": "mesh3d"
           }
          ],
          "parcoords": [
           {
            "line": {
             "colorbar": {
              "outlinewidth": 0,
              "ticks": ""
             }
            },
            "type": "parcoords"
           }
          ],
          "pie": [
           {
            "automargin": true,
            "type": "pie"
           }
          ],
          "scatter": [
           {
            "marker": {
             "colorbar": {
              "outlinewidth": 0,
              "ticks": ""
             }
            },
            "type": "scatter"
           }
          ],
          "scatter3d": [
           {
            "line": {
             "colorbar": {
              "outlinewidth": 0,
              "ticks": ""
             }
            },
            "marker": {
             "colorbar": {
              "outlinewidth": 0,
              "ticks": ""
             }
            },
            "type": "scatter3d"
           }
          ],
          "scattercarpet": [
           {
            "marker": {
             "colorbar": {
              "outlinewidth": 0,
              "ticks": ""
             }
            },
            "type": "scattercarpet"
           }
          ],
          "scattergeo": [
           {
            "marker": {
             "colorbar": {
              "outlinewidth": 0,
              "ticks": ""
             }
            },
            "type": "scattergeo"
           }
          ],
          "scattergl": [
           {
            "marker": {
             "colorbar": {
              "outlinewidth": 0,
              "ticks": ""
             }
            },
            "type": "scattergl"
           }
          ],
          "scattermapbox": [
           {
            "marker": {
             "colorbar": {
              "outlinewidth": 0,
              "ticks": ""
             }
            },
            "type": "scattermapbox"
           }
          ],
          "scatterpolar": [
           {
            "marker": {
             "colorbar": {
              "outlinewidth": 0,
              "ticks": ""
             }
            },
            "type": "scatterpolar"
           }
          ],
          "scatterpolargl": [
           {
            "marker": {
             "colorbar": {
              "outlinewidth": 0,
              "ticks": ""
             }
            },
            "type": "scatterpolargl"
           }
          ],
          "scatterternary": [
           {
            "marker": {
             "colorbar": {
              "outlinewidth": 0,
              "ticks": ""
             }
            },
            "type": "scatterternary"
           }
          ],
          "surface": [
           {
            "colorbar": {
             "outlinewidth": 0,
             "ticks": ""
            },
            "colorscale": [
             [
              0,
              "#0d0887"
             ],
             [
              0.1111111111111111,
              "#46039f"
             ],
             [
              0.2222222222222222,
              "#7201a8"
             ],
             [
              0.3333333333333333,
              "#9c179e"
             ],
             [
              0.4444444444444444,
              "#bd3786"
             ],
             [
              0.5555555555555556,
              "#d8576b"
             ],
             [
              0.6666666666666666,
              "#ed7953"
             ],
             [
              0.7777777777777778,
              "#fb9f3a"
             ],
             [
              0.8888888888888888,
              "#fdca26"
             ],
             [
              1,
              "#f0f921"
             ]
            ],
            "type": "surface"
           }
          ],
          "table": [
           {
            "cells": {
             "fill": {
              "color": "#EBF0F8"
             },
             "line": {
              "color": "white"
             }
            },
            "header": {
             "fill": {
              "color": "#C8D4E3"
             },
             "line": {
              "color": "white"
             }
            },
            "type": "table"
           }
          ]
         },
         "layout": {
          "annotationdefaults": {
           "arrowcolor": "#2a3f5f",
           "arrowhead": 0,
           "arrowwidth": 1
          },
          "autotypenumbers": "strict",
          "coloraxis": {
           "colorbar": {
            "outlinewidth": 0,
            "ticks": ""
           }
          },
          "colorscale": {
           "diverging": [
            [
             0,
             "#8e0152"
            ],
            [
             0.1,
             "#c51b7d"
            ],
            [
             0.2,
             "#de77ae"
            ],
            [
             0.3,
             "#f1b6da"
            ],
            [
             0.4,
             "#fde0ef"
            ],
            [
             0.5,
             "#f7f7f7"
            ],
            [
             0.6,
             "#e6f5d0"
            ],
            [
             0.7,
             "#b8e186"
            ],
            [
             0.8,
             "#7fbc41"
            ],
            [
             0.9,
             "#4d9221"
            ],
            [
             1,
             "#276419"
            ]
           ],
           "sequential": [
            [
             0,
             "#0d0887"
            ],
            [
             0.1111111111111111,
             "#46039f"
            ],
            [
             0.2222222222222222,
             "#7201a8"
            ],
            [
             0.3333333333333333,
             "#9c179e"
            ],
            [
             0.4444444444444444,
             "#bd3786"
            ],
            [
             0.5555555555555556,
             "#d8576b"
            ],
            [
             0.6666666666666666,
             "#ed7953"
            ],
            [
             0.7777777777777778,
             "#fb9f3a"
            ],
            [
             0.8888888888888888,
             "#fdca26"
            ],
            [
             1,
             "#f0f921"
            ]
           ],
           "sequentialminus": [
            [
             0,
             "#0d0887"
            ],
            [
             0.1111111111111111,
             "#46039f"
            ],
            [
             0.2222222222222222,
             "#7201a8"
            ],
            [
             0.3333333333333333,
             "#9c179e"
            ],
            [
             0.4444444444444444,
             "#bd3786"
            ],
            [
             0.5555555555555556,
             "#d8576b"
            ],
            [
             0.6666666666666666,
             "#ed7953"
            ],
            [
             0.7777777777777778,
             "#fb9f3a"
            ],
            [
             0.8888888888888888,
             "#fdca26"
            ],
            [
             1,
             "#f0f921"
            ]
           ]
          },
          "colorway": [
           "#636efa",
           "#EF553B",
           "#00cc96",
           "#ab63fa",
           "#FFA15A",
           "#19d3f3",
           "#FF6692",
           "#B6E880",
           "#FF97FF",
           "#FECB52"
          ],
          "font": {
           "color": "#2a3f5f"
          },
          "geo": {
           "bgcolor": "white",
           "lakecolor": "white",
           "landcolor": "#E5ECF6",
           "showlakes": true,
           "showland": true,
           "subunitcolor": "white"
          },
          "hoverlabel": {
           "align": "left"
          },
          "hovermode": "closest",
          "mapbox": {
           "style": "light"
          },
          "paper_bgcolor": "white",
          "plot_bgcolor": "#E5ECF6",
          "polar": {
           "angularaxis": {
            "gridcolor": "white",
            "linecolor": "white",
            "ticks": ""
           },
           "bgcolor": "#E5ECF6",
           "radialaxis": {
            "gridcolor": "white",
            "linecolor": "white",
            "ticks": ""
           }
          },
          "scene": {
           "xaxis": {
            "backgroundcolor": "#E5ECF6",
            "gridcolor": "white",
            "gridwidth": 2,
            "linecolor": "white",
            "showbackground": true,
            "ticks": "",
            "zerolinecolor": "white"
           },
           "yaxis": {
            "backgroundcolor": "#E5ECF6",
            "gridcolor": "white",
            "gridwidth": 2,
            "linecolor": "white",
            "showbackground": true,
            "ticks": "",
            "zerolinecolor": "white"
           },
           "zaxis": {
            "backgroundcolor": "#E5ECF6",
            "gridcolor": "white",
            "gridwidth": 2,
            "linecolor": "white",
            "showbackground": true,
            "ticks": "",
            "zerolinecolor": "white"
           }
          },
          "shapedefaults": {
           "line": {
            "color": "#2a3f5f"
           }
          },
          "ternary": {
           "aaxis": {
            "gridcolor": "white",
            "linecolor": "white",
            "ticks": ""
           },
           "baxis": {
            "gridcolor": "white",
            "linecolor": "white",
            "ticks": ""
           },
           "bgcolor": "#E5ECF6",
           "caxis": {
            "gridcolor": "white",
            "linecolor": "white",
            "ticks": ""
           }
          },
          "title": {
           "x": 0.05
          },
          "xaxis": {
           "automargin": true,
           "gridcolor": "white",
           "linecolor": "white",
           "ticks": "",
           "title": {
            "standoff": 15
           },
           "zerolinecolor": "white",
           "zerolinewidth": 2
          },
          "yaxis": {
           "automargin": true,
           "gridcolor": "white",
           "linecolor": "white",
           "ticks": "",
           "title": {
            "standoff": 15
           },
           "zerolinecolor": "white",
           "zerolinewidth": 2
          }
         }
        },
        "xaxis": {
         "rangeslider": {
          "visible": false
         }
        }
       }
      }
     },
     "metadata": {}
    }
   ],
   "source": [
    "fig = go.Figure(data=[go.Candlestick(x=candlestick_data['date'],\n",
    "                open=candlestick_data['Price']['first'], \n",
    "                high=candlestick_data['Price']['max'],\n",
    "                low=candlestick_data['Price']['min'], \n",
    "                close=candlestick_data['Price']['last'])\n",
    "                ])\n",
    "fig.update_layout(xaxis_rangeslider_visible=False)\n",
    "\n",
    "fig.show()"
   ]
  }
 ]
}